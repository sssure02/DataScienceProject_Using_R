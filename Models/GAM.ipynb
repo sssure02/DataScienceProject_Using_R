{
 "cells": [
  {
   "cell_type": "markdown",
   "id": "5143c4b9",
   "metadata": {},
   "source": [
    "# GAM [Generalized Additive Model]"
   ]
  },
  {
   "cell_type": "markdown",
   "id": "4c5fa61c",
   "metadata": {},
   "source": [
    "<p> GAM is a regression model that allows for non-linear relationships between the predictors and the response variable but it ignores the interaction between predictors. Natural splines are used in this model to capture the non-linear relationships (James et al., 2021). </p>"
   ]
  },
  {
   "cell_type": "code",
   "execution_count": 1,
   "id": "ddd9c2b9",
   "metadata": {},
   "outputs": [
    {
     "name": "stderr",
     "output_type": "stream",
     "text": [
      "Warning message:\n",
      "\"package 'gam' was built under R version 3.6.3\"Loading required package: splines\n",
      "Loading required package: foreach\n",
      "Loaded gam 1.16.1\n",
      "\n"
     ]
    }
   ],
   "source": [
    "library(gam)\n",
    "library(splines)"
   ]
  },
  {
   "cell_type": "markdown",
   "id": "03009f04",
   "metadata": {},
   "source": [
    "#### Let's load the dataset"
   ]
  },
  {
   "cell_type": "code",
   "execution_count": 2,
   "id": "10b4d8c8",
   "metadata": {},
   "outputs": [
    {
     "name": "stdout",
     "output_type": "stream",
     "text": [
      "'data.frame':\t17379 obs. of  17 variables:\n",
      " $ instant   : int  1 2 3 4 5 6 7 8 9 10 ...\n",
      " $ dteday    : Factor w/ 731 levels \"2011-01-01\",\"2011-01-02\",..: 1 1 1 1 1 1 1 1 1 1 ...\n",
      " $ season    : int  1 1 1 1 1 1 1 1 1 1 ...\n",
      " $ yr        : int  0 0 0 0 0 0 0 0 0 0 ...\n",
      " $ mnth      : int  1 1 1 1 1 1 1 1 1 1 ...\n",
      " $ hr        : int  0 1 2 3 4 5 6 7 8 9 ...\n",
      " $ holiday   : int  0 0 0 0 0 0 0 0 0 0 ...\n",
      " $ weekday   : int  6 6 6 6 6 6 6 6 6 6 ...\n",
      " $ workingday: int  0 0 0 0 0 0 0 0 0 0 ...\n",
      " $ weathersit: int  1 1 1 1 1 2 1 1 1 1 ...\n",
      " $ temp      : num  0.24 0.22 0.22 0.24 0.24 0.24 0.22 0.2 0.24 0.32 ...\n",
      " $ atemp     : num  0.288 0.273 0.273 0.288 0.288 ...\n",
      " $ hum       : num  0.81 0.8 0.8 0.75 0.75 0.75 0.8 0.86 0.75 0.76 ...\n",
      " $ windspeed : num  0 0 0 0 0 0.0896 0 0 0 0 ...\n",
      " $ casual    : int  3 8 5 3 0 0 2 1 1 8 ...\n",
      " $ registered: int  13 32 27 10 1 1 0 2 7 6 ...\n",
      " $ cnt       : int  16 40 32 13 1 1 2 3 8 14 ...\n"
     ]
    }
   ],
   "source": [
    "data <- read.csv('C:/Users/saisr/Documents/Wayne/Winter 2022/STA 5820/Bike-Sharing-Dataset/hour.csv')\n",
    "\n",
    "# Making a copy so the original can be referred back if needed \n",
    "df <- data\n",
    "\n",
    "str(df)"
   ]
  },
  {
   "cell_type": "code",
   "execution_count": 3,
   "id": "06b6f7e6",
   "metadata": {},
   "outputs": [],
   "source": [
    "df$instant <- NULL\n",
    "df$registered <- NULL\n",
    "df$casual <- NULL\n",
    "\n",
    "df$season <- as.factor(df$season)\n",
    "df$yr <- as.factor(df$yr)\n",
    "df$mnth <- as.factor(df$mnth)\n",
    "df$hr <- as.factor(df$hr)\n",
    "df$holiday <- as.factor(df$holiday)\n",
    "df$workingday <- as.factor(df$workingday)\n",
    "df$weathersit <- as.factor(df$weathersit)\n",
    "df$weekday <- as.factor(df$weekday)\n",
    "\n",
    "\n",
    "df$atemp <- NULL # atemp is the normalized feeling temperature in Celsius while temp is \n",
    "# Normalized temperature in Celsius. So these variables are similar in meaning and are redundant. So, it is reasonable\n",
    "# to remove the atemp variable."
   ]
  },
  {
   "cell_type": "markdown",
   "id": "f2cad66a",
   "metadata": {},
   "source": [
    "#### Splitting the dataset"
   ]
  },
  {
   "cell_type": "code",
   "execution_count": 4,
   "id": "c0989fc1",
   "metadata": {},
   "outputs": [],
   "source": [
    "# Since this is a time-series data and we need to compare models,  the dataset will not be randomly split into train \n",
    "# and test datasets. Instead, the first 13904 observations [80% of the dataset] will be in training set, and the \n",
    "# remaining 3475 observations will be in test set.\n",
    "\n",
    "t <- c(1:13904)\n",
    "Train <- df[t,]\n",
    "Test <- df[-t,]\n",
    "\n",
    "train.X <- data.frame(Train[,1:11])\n",
    "train.y <- c(Train[, 12])\n",
    "test.x <- data.frame(Test[, 1:11])\n",
    "test.y <- c(Test[,12])"
   ]
  },
  {
   "cell_type": "code",
   "execution_count": 5,
   "id": "5384878d",
   "metadata": {},
   "outputs": [
    {
     "data": {
      "text/html": [
       "<table>\n",
       "<thead><tr><th scope=col>season</th><th scope=col>yr</th><th scope=col>mnth</th><th scope=col>hr</th><th scope=col>holiday</th><th scope=col>weekday</th><th scope=col>workingday</th><th scope=col>weathersit</th><th scope=col>temp</th><th scope=col>hum</th><th scope=col>windspeed</th><th scope=col>cnt</th></tr></thead>\n",
       "<tbody>\n",
       "\t<tr><td>1     </td><td>0     </td><td>1     </td><td>0     </td><td>0     </td><td>6     </td><td>0     </td><td>1     </td><td>0.24  </td><td>0.81  </td><td>0.0000</td><td>16    </td></tr>\n",
       "\t<tr><td>1     </td><td>0     </td><td>1     </td><td>1     </td><td>0     </td><td>6     </td><td>0     </td><td>1     </td><td>0.22  </td><td>0.80  </td><td>0.0000</td><td>40    </td></tr>\n",
       "\t<tr><td>1     </td><td>0     </td><td>1     </td><td>2     </td><td>0     </td><td>6     </td><td>0     </td><td>1     </td><td>0.22  </td><td>0.80  </td><td>0.0000</td><td>32    </td></tr>\n",
       "\t<tr><td>1     </td><td>0     </td><td>1     </td><td>3     </td><td>0     </td><td>6     </td><td>0     </td><td>1     </td><td>0.24  </td><td>0.75  </td><td>0.0000</td><td>13    </td></tr>\n",
       "\t<tr><td>1     </td><td>0     </td><td>1     </td><td>4     </td><td>0     </td><td>6     </td><td>0     </td><td>1     </td><td>0.24  </td><td>0.75  </td><td>0.0000</td><td> 1    </td></tr>\n",
       "\t<tr><td>1     </td><td>0     </td><td>1     </td><td>5     </td><td>0     </td><td>6     </td><td>0     </td><td>2     </td><td>0.24  </td><td>0.75  </td><td>0.0896</td><td> 1    </td></tr>\n",
       "</tbody>\n",
       "</table>\n"
      ],
      "text/latex": [
       "\\begin{tabular}{r|llllllllllll}\n",
       " season & yr & mnth & hr & holiday & weekday & workingday & weathersit & temp & hum & windspeed & cnt\\\\\n",
       "\\hline\n",
       "\t 1      & 0      & 1      & 0      & 0      & 6      & 0      & 1      & 0.24   & 0.81   & 0.0000 & 16    \\\\\n",
       "\t 1      & 0      & 1      & 1      & 0      & 6      & 0      & 1      & 0.22   & 0.80   & 0.0000 & 40    \\\\\n",
       "\t 1      & 0      & 1      & 2      & 0      & 6      & 0      & 1      & 0.22   & 0.80   & 0.0000 & 32    \\\\\n",
       "\t 1      & 0      & 1      & 3      & 0      & 6      & 0      & 1      & 0.24   & 0.75   & 0.0000 & 13    \\\\\n",
       "\t 1      & 0      & 1      & 4      & 0      & 6      & 0      & 1      & 0.24   & 0.75   & 0.0000 &  1    \\\\\n",
       "\t 1      & 0      & 1      & 5      & 0      & 6      & 0      & 2      & 0.24   & 0.75   & 0.0896 &  1    \\\\\n",
       "\\end{tabular}\n"
      ],
      "text/markdown": [
       "\n",
       "| season | yr | mnth | hr | holiday | weekday | workingday | weathersit | temp | hum | windspeed | cnt |\n",
       "|---|---|---|---|---|---|---|---|---|---|---|---|\n",
       "| 1      | 0      | 1      | 0      | 0      | 6      | 0      | 1      | 0.24   | 0.81   | 0.0000 | 16     |\n",
       "| 1      | 0      | 1      | 1      | 0      | 6      | 0      | 1      | 0.22   | 0.80   | 0.0000 | 40     |\n",
       "| 1      | 0      | 1      | 2      | 0      | 6      | 0      | 1      | 0.22   | 0.80   | 0.0000 | 32     |\n",
       "| 1      | 0      | 1      | 3      | 0      | 6      | 0      | 1      | 0.24   | 0.75   | 0.0000 | 13     |\n",
       "| 1      | 0      | 1      | 4      | 0      | 6      | 0      | 1      | 0.24   | 0.75   | 0.0000 |  1     |\n",
       "| 1      | 0      | 1      | 5      | 0      | 6      | 0      | 2      | 0.24   | 0.75   | 0.0896 |  1     |\n",
       "\n"
      ],
      "text/plain": [
       "  season yr mnth hr holiday weekday workingday weathersit temp hum  windspeed\n",
       "1 1      0  1    0  0       6       0          1          0.24 0.81 0.0000   \n",
       "2 1      0  1    1  0       6       0          1          0.22 0.80 0.0000   \n",
       "3 1      0  1    2  0       6       0          1          0.22 0.80 0.0000   \n",
       "4 1      0  1    3  0       6       0          1          0.24 0.75 0.0000   \n",
       "5 1      0  1    4  0       6       0          1          0.24 0.75 0.0000   \n",
       "6 1      0  1    5  0       6       0          2          0.24 0.75 0.0896   \n",
       "  cnt\n",
       "1 16 \n",
       "2 40 \n",
       "3 32 \n",
       "4 13 \n",
       "5  1 \n",
       "6  1 "
      ]
     },
     "metadata": {},
     "output_type": "display_data"
    }
   ],
   "source": [
    "Train$dteday <- NULL # Since we are interested in how the condition of the day affects the amount of rental bikes,\n",
    "# we can remove dteday that states the date on which the data was collected.\n",
    "Test$dteday <- NULL \n",
    "head(Train)"
   ]
  },
  {
   "cell_type": "markdown",
   "id": "c496d1b7",
   "metadata": {},
   "source": [
    "#### Training the model"
   ]
  },
  {
   "cell_type": "code",
   "execution_count": 6,
   "id": "18021326",
   "metadata": {},
   "outputs": [
    {
     "name": "stderr",
     "output_type": "stream",
     "text": [
      "Warning message in model.matrix.default(mt, mf, contrasts):\n",
      "\"non-list contrasts argument ignored\""
     ]
    }
   ],
   "source": [
    "GAM_1 <- gam(cnt ~ season +  yr+  mnth+  hr+  holiday+  weekday+  workingday+  weathersit+  \n",
    "               ns(temp, 2) +  ns(hum,2)+  ns(windspeed,2), data=Train)"
   ]
  },
  {
   "cell_type": "code",
   "execution_count": 7,
   "id": "4ad63198",
   "metadata": {},
   "outputs": [
    {
     "data": {
      "text/plain": [
       "\n",
       "Call: gam(formula = cnt ~ season + yr + mnth + hr + holiday + weekday + \n",
       "    workingday + weathersit + ns(temp, 2) + ns(hum, 2) + ns(windspeed, \n",
       "    2), data = Train)\n",
       "Deviance Residuals:\n",
       "     Min       1Q   Median       3Q      Max \n",
       "-342.059  -54.075   -5.923   46.445  448.639 \n",
       "\n",
       "(Dispersion Parameter for gaussian family taken to be 8662.675)\n",
       "\n",
       "    Null Deviance: 387517620 on 13903 degrees of freedom\n",
       "Residual Deviance: 119969380 on 13849 degrees of freedom\n",
       "AIC: 165579.2 \n",
       "\n",
       "Number of Local Scoring Iterations: 2 \n",
       "\n",
       "Anova for Parametric Effects\n",
       "                    Df    Sum Sq  Mean Sq   F value    Pr(>F)    \n",
       "season               3  27017392  9005797 1039.6093 < 2.2e-16 ***\n",
       "yr                   1  24022920 24022920 2773.1527 < 2.2e-16 ***\n",
       "mnth                11   5462561   496596   57.3260 < 2.2e-16 ***\n",
       "hr                  23 196607375  8548147  986.7792 < 2.2e-16 ***\n",
       "holiday              1     33199    33199    3.8325   0.05029 .  \n",
       "weekday              6    242337    40389    4.6625 9.600e-05 ***\n",
       "weathersit           3   7894255  2631418  303.7651 < 2.2e-16 ***\n",
       "ns(temp, 2)          2   4739222  2369611  273.5427 < 2.2e-16 ***\n",
       "ns(hum, 2)           2   1172594   586297   67.6808 < 2.2e-16 ***\n",
       "ns(windspeed, 2)     2    356384   178192   20.5701 1.202e-09 ***\n",
       "Residuals        13849 119969380     8663                        \n",
       "---\n",
       "Signif. codes:  0 '***' 0.001 '**' 0.01 '*' 0.05 '.' 0.1 ' ' 1\n"
      ]
     },
     "metadata": {},
     "output_type": "display_data"
    }
   ],
   "source": [
    "summary(GAM_1)"
   ]
  },
  {
   "cell_type": "markdown",
   "id": "8e65fb13",
   "metadata": {},
   "source": [
    "#### Most of the variables are statistically significant at α = 0.001 except for holiday, which is significant at α = 0.1. This means that all the predictors are related to the response variable by more than just chance."
   ]
  },
  {
   "cell_type": "code",
   "execution_count": 8,
   "id": "b43c1090",
   "metadata": {},
   "outputs": [
    {
     "data": {
      "image/png": "[encoded data removed]",
      "text/plain": [
       "plot without title"
      ]
     },
     "metadata": {},
     "output_type": "display_data"
    }
   ],
   "source": [
    "par(mfrow = c(3,4))\n",
    "plot(GAM_1,se=TRUE)"
   ]
  },
  {
   "cell_type": "markdown",
   "id": "97dde1c4",
   "metadata": {},
   "source": [
    "#### These graphs show how the variable on the x-axis affects our variable of interest when other variables are considered to be fixed. The relationships shown in the graph are similar to our findings found in the EDA. For example, the temp [temperature], hum [humidity], and mnth [month] variables match conclusions in the EDA."
   ]
  },
  {
   "cell_type": "markdown",
   "id": "310b0b95",
   "metadata": {},
   "source": [
    "### Using the model on the test dataset"
   ]
  },
  {
   "cell_type": "code",
   "execution_count": 9,
   "id": "10668319",
   "metadata": {},
   "outputs": [
    {
     "name": "stderr",
     "output_type": "stream",
     "text": [
      "Warning message in predict.lm(object, newdata, se.fit, scale = 1, type = if (type == :\n",
      "\"prediction from a rank-deficient fit may be misleading\""
     ]
    }
   ],
   "source": [
    "pred.tst <- predict(GAM_1, newdata = Test)\n"
   ]
  },
  {
   "cell_type": "code",
   "execution_count": 10,
   "id": "60b39fa5",
   "metadata": {},
   "outputs": [
    {
     "data": {
      "text/html": [
       "276.817487284872"
      ],
      "text/latex": [
       "276.817487284872"
      ],
      "text/markdown": [
       "276.817487284872"
      ],
      "text/plain": [
       "[1] 276.8175"
      ]
     },
     "metadata": {},
     "output_type": "display_data"
    }
   ],
   "source": [
    "(mean((test.y-pred.tst)^2)^0.5)"
   ]
  },
  {
   "cell_type": "markdown",
   "id": "d1f049da",
   "metadata": {},
   "source": [
    "#### The test RMSE is ~ 276.82 "
   ]
  }
 ],
 "metadata": {
  "kernelspec": {
   "display_name": "R",
   "language": "R",
   "name": "ir"
  },
  "language_info": {
   "codemirror_mode": "r",
   "file_extension": ".r",
   "mimetype": "text/x-r-source",
   "name": "R",
   "pygments_lexer": "r",
   "version": "3.6.1"
  }
 },
 "nbformat": 4,
 "nbformat_minor": 5
}
