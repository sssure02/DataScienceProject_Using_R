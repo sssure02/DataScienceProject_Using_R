{
 "cells": [
  {
   "cell_type": "markdown",
   "id": "a02bbbe1",
   "metadata": {},
   "source": [
    "# Random Forest"
   ]
  },
  {
   "cell_type": "markdown",
   "id": "c1812b5f",
   "metadata": {},
   "source": [
    "<p> A random forest is a tree-based method. It involves fitting multiple regression trees using a randomly selected number of predictors and a bootstrap sample from the entire dataset for each tree. In the end, we will take the average of these trees to find the final fitted curve, which can be used for prediction (James et al., 2021). </p>"
   ]
  },
  {
   "cell_type": "code",
   "execution_count": 1,
   "id": "811ebd50",
   "metadata": {},
   "outputs": [
    {
     "name": "stderr",
     "output_type": "stream",
     "text": [
      "randomForest 4.6-14\n",
      "Type rfNews() to see new features/changes/bug fixes.\n"
     ]
    }
   ],
   "source": [
    "library(randomForest)"
   ]
  },
  {
   "cell_type": "markdown",
   "id": "cfd71266",
   "metadata": {},
   "source": [
    "#### Let's load the dataset"
   ]
  },
  {
   "cell_type": "code",
   "execution_count": 2,
   "id": "f7ea7f6c",
   "metadata": {},
   "outputs": [
    {
     "name": "stdout",
     "output_type": "stream",
     "text": [
      "'data.frame':\t17379 obs. of  17 variables:\n",
      " $ instant   : int  1 2 3 4 5 6 7 8 9 10 ...\n",
      " $ dteday    : Factor w/ 731 levels \"2011-01-01\",\"2011-01-02\",..: 1 1 1 1 1 1 1 1 1 1 ...\n",
      " $ season    : int  1 1 1 1 1 1 1 1 1 1 ...\n",
      " $ yr        : int  0 0 0 0 0 0 0 0 0 0 ...\n",
      " $ mnth      : int  1 1 1 1 1 1 1 1 1 1 ...\n",
      " $ hr        : int  0 1 2 3 4 5 6 7 8 9 ...\n",
      " $ holiday   : int  0 0 0 0 0 0 0 0 0 0 ...\n",
      " $ weekday   : int  6 6 6 6 6 6 6 6 6 6 ...\n",
      " $ workingday: int  0 0 0 0 0 0 0 0 0 0 ...\n",
      " $ weathersit: int  1 1 1 1 1 2 1 1 1 1 ...\n",
      " $ temp      : num  0.24 0.22 0.22 0.24 0.24 0.24 0.22 0.2 0.24 0.32 ...\n",
      " $ atemp     : num  0.288 0.273 0.273 0.288 0.288 ...\n",
      " $ hum       : num  0.81 0.8 0.8 0.75 0.75 0.75 0.8 0.86 0.75 0.76 ...\n",
      " $ windspeed : num  0 0 0 0 0 0.0896 0 0 0 0 ...\n",
      " $ casual    : int  3 8 5 3 0 0 2 1 1 8 ...\n",
      " $ registered: int  13 32 27 10 1 1 0 2 7 6 ...\n",
      " $ cnt       : int  16 40 32 13 1 1 2 3 8 14 ...\n"
     ]
    }
   ],
   "source": [
    "data <- read.csv('C:/Users/saisr/Documents/Wayne/Winter 2022/STA 5820/Bike-Sharing-Dataset/hour.csv')\n",
    "# Making a copy so the original can be referred back if needed \n",
    "df <- data\n",
    "str(df)"
   ]
  },
  {
   "cell_type": "code",
   "execution_count": 3,
   "id": "a0c0b069",
   "metadata": {},
   "outputs": [],
   "source": [
    "df$instant <- NULL\n",
    "df$registered <- NULL\n",
    "df$casual <- NULL\n",
    "\n",
    "df$season <- as.factor(df$season)\n",
    "df$yr <- as.factor(df$yr)\n",
    "df$mnth <- as.factor(df$mnth)\n",
    "df$hr <- as.factor(df$hr)\n",
    "df$holiday <- as.factor(df$holiday)\n",
    "df$workingday <- as.factor(df$workingday)\n",
    "df$weathersit <- as.factor(df$weathersit)\n",
    "df$weekday <- as.factor(df$weekday)\n",
    "\n",
    "\n",
    "df$atemp <- NULL # atemp is the normalized feeling temperature in Celsius while temp is \n",
    "# Normalized temperature in Celsius. So these variables are similar in meaning and are redundant. So, it is reasonable\n",
    "# to remove the atemp variable.\n",
    " "
   ]
  },
  {
   "cell_type": "markdown",
   "id": "581f629f",
   "metadata": {},
   "source": [
    "#### Splitting the dataset"
   ]
  },
  {
   "cell_type": "code",
   "execution_count": 4,
   "id": "4a382a2b",
   "metadata": {},
   "outputs": [],
   "source": [
    "# Since this is a time-series data and we need to compare models,  the dataset will not be randomly split into train \n",
    "# and test datasets. Instead, the first 13904 observations [80% of the dataset] will be in training set, and the \n",
    "# remaining 3475 observations will be in test set.\n",
    "\n",
    "t <- c(1:13904)\n",
    "Train <- df[t,]\n",
    "Test <- df[-t,]\n",
    "\n",
    "train.X <- data.frame(Train[,1:11])\n",
    "train.y <- c(Train[, 12])\n",
    "test.x <- data.frame(Test[, 1:11])\n",
    "test.y <- c(Test[,12])\n"
   ]
  },
  {
   "cell_type": "code",
   "execution_count": 5,
   "id": "93793cc6",
   "metadata": {},
   "outputs": [
    {
     "data": {
      "text/html": [
       "<table>\n",
       "<thead><tr><th scope=col>season</th><th scope=col>yr</th><th scope=col>mnth</th><th scope=col>hr</th><th scope=col>holiday</th><th scope=col>weekday</th><th scope=col>workingday</th><th scope=col>weathersit</th><th scope=col>temp</th><th scope=col>hum</th><th scope=col>windspeed</th><th scope=col>cnt</th></tr></thead>\n",
       "<tbody>\n",
       "\t<tr><td>1     </td><td>0     </td><td>1     </td><td>0     </td><td>0     </td><td>6     </td><td>0     </td><td>1     </td><td>0.24  </td><td>0.81  </td><td>0.0000</td><td>16    </td></tr>\n",
       "\t<tr><td>1     </td><td>0     </td><td>1     </td><td>1     </td><td>0     </td><td>6     </td><td>0     </td><td>1     </td><td>0.22  </td><td>0.80  </td><td>0.0000</td><td>40    </td></tr>\n",
       "\t<tr><td>1     </td><td>0     </td><td>1     </td><td>2     </td><td>0     </td><td>6     </td><td>0     </td><td>1     </td><td>0.22  </td><td>0.80  </td><td>0.0000</td><td>32    </td></tr>\n",
       "\t<tr><td>1     </td><td>0     </td><td>1     </td><td>3     </td><td>0     </td><td>6     </td><td>0     </td><td>1     </td><td>0.24  </td><td>0.75  </td><td>0.0000</td><td>13    </td></tr>\n",
       "\t<tr><td>1     </td><td>0     </td><td>1     </td><td>4     </td><td>0     </td><td>6     </td><td>0     </td><td>1     </td><td>0.24  </td><td>0.75  </td><td>0.0000</td><td> 1    </td></tr>\n",
       "\t<tr><td>1     </td><td>0     </td><td>1     </td><td>5     </td><td>0     </td><td>6     </td><td>0     </td><td>2     </td><td>0.24  </td><td>0.75  </td><td>0.0896</td><td> 1    </td></tr>\n",
       "</tbody>\n",
       "</table>\n"
      ],
      "text/latex": [
       "\\begin{tabular}{r|llllllllllll}\n",
       " season & yr & mnth & hr & holiday & weekday & workingday & weathersit & temp & hum & windspeed & cnt\\\\\n",
       "\\hline\n",
       "\t 1      & 0      & 1      & 0      & 0      & 6      & 0      & 1      & 0.24   & 0.81   & 0.0000 & 16    \\\\\n",
       "\t 1      & 0      & 1      & 1      & 0      & 6      & 0      & 1      & 0.22   & 0.80   & 0.0000 & 40    \\\\\n",
       "\t 1      & 0      & 1      & 2      & 0      & 6      & 0      & 1      & 0.22   & 0.80   & 0.0000 & 32    \\\\\n",
       "\t 1      & 0      & 1      & 3      & 0      & 6      & 0      & 1      & 0.24   & 0.75   & 0.0000 & 13    \\\\\n",
       "\t 1      & 0      & 1      & 4      & 0      & 6      & 0      & 1      & 0.24   & 0.75   & 0.0000 &  1    \\\\\n",
       "\t 1      & 0      & 1      & 5      & 0      & 6      & 0      & 2      & 0.24   & 0.75   & 0.0896 &  1    \\\\\n",
       "\\end{tabular}\n"
      ],
      "text/markdown": [
       "\n",
       "| season | yr | mnth | hr | holiday | weekday | workingday | weathersit | temp | hum | windspeed | cnt |\n",
       "|---|---|---|---|---|---|---|---|---|---|---|---|\n",
       "| 1      | 0      | 1      | 0      | 0      | 6      | 0      | 1      | 0.24   | 0.81   | 0.0000 | 16     |\n",
       "| 1      | 0      | 1      | 1      | 0      | 6      | 0      | 1      | 0.22   | 0.80   | 0.0000 | 40     |\n",
       "| 1      | 0      | 1      | 2      | 0      | 6      | 0      | 1      | 0.22   | 0.80   | 0.0000 | 32     |\n",
       "| 1      | 0      | 1      | 3      | 0      | 6      | 0      | 1      | 0.24   | 0.75   | 0.0000 | 13     |\n",
       "| 1      | 0      | 1      | 4      | 0      | 6      | 0      | 1      | 0.24   | 0.75   | 0.0000 |  1     |\n",
       "| 1      | 0      | 1      | 5      | 0      | 6      | 0      | 2      | 0.24   | 0.75   | 0.0896 |  1     |\n",
       "\n"
      ],
      "text/plain": [
       "  season yr mnth hr holiday weekday workingday weathersit temp hum  windspeed\n",
       "1 1      0  1    0  0       6       0          1          0.24 0.81 0.0000   \n",
       "2 1      0  1    1  0       6       0          1          0.22 0.80 0.0000   \n",
       "3 1      0  1    2  0       6       0          1          0.22 0.80 0.0000   \n",
       "4 1      0  1    3  0       6       0          1          0.24 0.75 0.0000   \n",
       "5 1      0  1    4  0       6       0          1          0.24 0.75 0.0000   \n",
       "6 1      0  1    5  0       6       0          2          0.24 0.75 0.0896   \n",
       "  cnt\n",
       "1 16 \n",
       "2 40 \n",
       "3 32 \n",
       "4 13 \n",
       "5  1 \n",
       "6  1 "
      ]
     },
     "metadata": {},
     "output_type": "display_data"
    }
   ],
   "source": [
    "Train$dteday <- NULL # Since we are interested in how the condition of the day affects the amount of rental bikes,\n",
    "# we can remove dteday that states the date on which the data was collected.\n",
    "Test$dteday <- NULL \n",
    "head(Train)"
   ]
  },
  {
   "cell_type": "markdown",
   "id": "81d79e63",
   "metadata": {},
   "source": [
    "#### Training the model"
   ]
  },
  {
   "cell_type": "code",
   "execution_count": 6,
   "id": "e892fcba",
   "metadata": {},
   "outputs": [
    {
     "data": {
      "text/plain": [
       "\n",
       "Call:\n",
       " randomForest(formula = cnt ~ ., data = Train, importance = T) \n",
       "               Type of random forest: regression\n",
       "                     Number of trees: 500\n",
       "No. of variables tried at each split: 3\n",
       "\n",
       "          Mean of squared residuals: 2213.827\n",
       "                    % Var explained: 92.06"
      ]
     },
     "metadata": {},
     "output_type": "display_data"
    }
   ],
   "source": [
    "RF1 <- randomForest(cnt ~ ., data=Train, importance = T)\n",
    "RF1"
   ]
  },
  {
   "cell_type": "markdown",
   "id": "a0c0da54",
   "metadata": {},
   "source": [
    "#### Using the model on the test dataset"
   ]
  },
  {
   "cell_type": "code",
   "execution_count": 7,
   "id": "e67980e2",
   "metadata": {},
   "outputs": [
    {
     "data": {
      "text/html": [
       "245.722128194359"
      ],
      "text/latex": [
       "245.722128194359"
      ],
      "text/markdown": [
       "245.722128194359"
      ],
      "text/plain": [
       "[1] 245.7221"
      ]
     },
     "metadata": {},
     "output_type": "display_data"
    }
   ],
   "source": [
    "pred.test <- predict(RF1, newdata = Test)\n",
    "(mean((test.y-pred.test)^2)^0.5)"
   ]
  },
  {
   "cell_type": "markdown",
   "id": "4ee15ba0",
   "metadata": {},
   "source": [
    "#### The test  RMSE is ~ 245.72. "
   ]
  }
 ],
 "metadata": {
  "kernelspec": {
   "display_name": "R",
   "language": "R",
   "name": "ir"
  },
  "language_info": {
   "codemirror_mode": "r",
   "file_extension": ".r",
   "mimetype": "text/x-r-source",
   "name": "R",
   "pygments_lexer": "r",
   "version": "3.6.1"
  }
 },
 "nbformat": 4,
 "nbformat_minor": 5
}
