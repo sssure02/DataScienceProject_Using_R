{
 "cells": [
  {
   "cell_type": "markdown",
   "id": "18606f1a",
   "metadata": {},
   "source": [
    "# KNN [K Nearest Neighbor]"
   ]
  },
  {
   "cell_type": "markdown",
   "id": "c739e688",
   "metadata": {},
   "source": [
    "<p> KNN for regression uses k observations that are closest to our test data point and averages them to find the predicted value of the test data point. In this case, the optimal k is found to be 3, which means the nearest 3 data points are used by model when predicting (James et al., 2021).</p>"
   ]
  },
  {
   "cell_type": "code",
   "execution_count": 1,
   "id": "fa3bf583",
   "metadata": {},
   "outputs": [
    {
     "name": "stderr",
     "output_type": "stream",
     "text": [
      "Loading required package: lattice\n",
      "Loading required package: ggplot2\n",
      "Warning message:\n",
      "\"package 'ggplot2' was built under R version 3.6.3\""
     ]
    }
   ],
   "source": [
    "library(class)\n",
    "library(caret)"
   ]
  },
  {
   "cell_type": "markdown",
   "id": "7f7ad113",
   "metadata": {},
   "source": [
    "#### Let's load the dataset"
   ]
  },
  {
   "cell_type": "code",
   "execution_count": 2,
   "id": "8fb9d6fb",
   "metadata": {},
   "outputs": [
    {
     "name": "stdout",
     "output_type": "stream",
     "text": [
      "'data.frame':\t17379 obs. of  17 variables:\n",
      " $ instant   : int  1 2 3 4 5 6 7 8 9 10 ...\n",
      " $ dteday    : Factor w/ 731 levels \"2011-01-01\",\"2011-01-02\",..: 1 1 1 1 1 1 1 1 1 1 ...\n",
      " $ season    : int  1 1 1 1 1 1 1 1 1 1 ...\n",
      " $ yr        : int  0 0 0 0 0 0 0 0 0 0 ...\n",
      " $ mnth      : int  1 1 1 1 1 1 1 1 1 1 ...\n",
      " $ hr        : int  0 1 2 3 4 5 6 7 8 9 ...\n",
      " $ holiday   : int  0 0 0 0 0 0 0 0 0 0 ...\n",
      " $ weekday   : int  6 6 6 6 6 6 6 6 6 6 ...\n",
      " $ workingday: int  0 0 0 0 0 0 0 0 0 0 ...\n",
      " $ weathersit: int  1 1 1 1 1 2 1 1 1 1 ...\n",
      " $ temp      : num  0.24 0.22 0.22 0.24 0.24 0.24 0.22 0.2 0.24 0.32 ...\n",
      " $ atemp     : num  0.288 0.273 0.273 0.288 0.288 ...\n",
      " $ hum       : num  0.81 0.8 0.8 0.75 0.75 0.75 0.8 0.86 0.75 0.76 ...\n",
      " $ windspeed : num  0 0 0 0 0 0.0896 0 0 0 0 ...\n",
      " $ casual    : int  3 8 5 3 0 0 2 1 1 8 ...\n",
      " $ registered: int  13 32 27 10 1 1 0 2 7 6 ...\n",
      " $ cnt       : int  16 40 32 13 1 1 2 3 8 14 ...\n"
     ]
    }
   ],
   "source": [
    "data1 <- read.csv('C:/Users/saisr/Documents/Wayne/Winter 2022/STA 5820/Bike-Sharing-Dataset/hour.csv')\n",
    "\n",
    "# Making a copy so the original can be referred back if needed \n",
    "df1 <- data1\n",
    "\n",
    "str(df1)"
   ]
  },
  {
   "cell_type": "code",
   "execution_count": 3,
   "id": "79f8f3d0",
   "metadata": {},
   "outputs": [],
   "source": [
    "df1$instant <- NULL\n",
    "df1$registered <- NULL\n",
    "df1$casual <- NULL\n",
    "df1$season <- as.factor(df1$season)\n",
    "df1$yr <- as.factor(df1$yr)\n",
    "df1$mnth <- as.factor(df1$mnth)\n",
    "df1$hr <- as.factor(df1$hr)\n",
    "df1$holiday <- as.factor(df1$holiday)\n",
    "df1$workingday <- as.factor(df1$workingday)\n",
    "df1$weathersit <- as.factor(df1$weathersit)\n",
    "df1$weekday <- as.factor(df1$weekday)\n",
    "\n",
    "df1$atemp <- NULL # atemp is the normalized feeling temperature in Celsius while temp is \n",
    "# Normalized temperature in Celsius. So these variables are similar in meaning and are redundant. So, it is reasonable\n",
    "# to remove the atemp variable.\n",
    "\n",
    "df1$dteday <- NULL # Since we are interested in how the condition of the day affects the amount of rental bikes,\n",
    "# we can remove dteday that states the date on which the data was collected."
   ]
  },
  {
   "cell_type": "markdown",
   "id": "c7d0b414",
   "metadata": {},
   "source": [
    "#### Splitting the dataset"
   ]
  },
  {
   "cell_type": "code",
   "execution_count": 4,
   "id": "294cd769",
   "metadata": {},
   "outputs": [],
   "source": [
    "# Since this is a time-series data and we need to compare models,  the dataset will not be randomly split into train \n",
    "# and test datasets. Instead, the first 13904 observations [80% of the dataset] will be in training set, and the \n",
    "# remaining 3475 observations will be in test set.\n",
    "\n",
    "t <- c(1:13904)\n",
    "Train <- df1[t,]\n",
    "Test <- df1[-t,]\n",
    "\n",
    "train.X <- data.frame(Train[,1:11])\n",
    "train.y <- c(Train[, 12])\n",
    "test.x <- data.frame(Test[, 1:11])\n",
    "test.y <- c(Test[,12])"
   ]
  },
  {
   "cell_type": "code",
   "execution_count": 5,
   "id": "baa02db7",
   "metadata": {},
   "outputs": [
    {
     "data": {
      "text/html": [
       "<table>\n",
       "<thead><tr><th scope=col>season</th><th scope=col>yr</th><th scope=col>mnth</th><th scope=col>hr</th><th scope=col>holiday</th><th scope=col>weekday</th><th scope=col>workingday</th><th scope=col>weathersit</th><th scope=col>temp</th><th scope=col>hum</th><th scope=col>windspeed</th><th scope=col>cnt</th></tr></thead>\n",
       "<tbody>\n",
       "\t<tr><td>1     </td><td>0     </td><td>1     </td><td>0     </td><td>0     </td><td>6     </td><td>0     </td><td>1     </td><td>0.24  </td><td>0.81  </td><td>0.0000</td><td>16    </td></tr>\n",
       "\t<tr><td>1     </td><td>0     </td><td>1     </td><td>1     </td><td>0     </td><td>6     </td><td>0     </td><td>1     </td><td>0.22  </td><td>0.80  </td><td>0.0000</td><td>40    </td></tr>\n",
       "\t<tr><td>1     </td><td>0     </td><td>1     </td><td>2     </td><td>0     </td><td>6     </td><td>0     </td><td>1     </td><td>0.22  </td><td>0.80  </td><td>0.0000</td><td>32    </td></tr>\n",
       "\t<tr><td>1     </td><td>0     </td><td>1     </td><td>3     </td><td>0     </td><td>6     </td><td>0     </td><td>1     </td><td>0.24  </td><td>0.75  </td><td>0.0000</td><td>13    </td></tr>\n",
       "\t<tr><td>1     </td><td>0     </td><td>1     </td><td>4     </td><td>0     </td><td>6     </td><td>0     </td><td>1     </td><td>0.24  </td><td>0.75  </td><td>0.0000</td><td> 1    </td></tr>\n",
       "\t<tr><td>1     </td><td>0     </td><td>1     </td><td>5     </td><td>0     </td><td>6     </td><td>0     </td><td>2     </td><td>0.24  </td><td>0.75  </td><td>0.0896</td><td> 1    </td></tr>\n",
       "</tbody>\n",
       "</table>\n"
      ],
      "text/latex": [
       "\\begin{tabular}{r|llllllllllll}\n",
       " season & yr & mnth & hr & holiday & weekday & workingday & weathersit & temp & hum & windspeed & cnt\\\\\n",
       "\\hline\n",
       "\t 1      & 0      & 1      & 0      & 0      & 6      & 0      & 1      & 0.24   & 0.81   & 0.0000 & 16    \\\\\n",
       "\t 1      & 0      & 1      & 1      & 0      & 6      & 0      & 1      & 0.22   & 0.80   & 0.0000 & 40    \\\\\n",
       "\t 1      & 0      & 1      & 2      & 0      & 6      & 0      & 1      & 0.22   & 0.80   & 0.0000 & 32    \\\\\n",
       "\t 1      & 0      & 1      & 3      & 0      & 6      & 0      & 1      & 0.24   & 0.75   & 0.0000 & 13    \\\\\n",
       "\t 1      & 0      & 1      & 4      & 0      & 6      & 0      & 1      & 0.24   & 0.75   & 0.0000 &  1    \\\\\n",
       "\t 1      & 0      & 1      & 5      & 0      & 6      & 0      & 2      & 0.24   & 0.75   & 0.0896 &  1    \\\\\n",
       "\\end{tabular}\n"
      ],
      "text/markdown": [
       "\n",
       "| season | yr | mnth | hr | holiday | weekday | workingday | weathersit | temp | hum | windspeed | cnt |\n",
       "|---|---|---|---|---|---|---|---|---|---|---|---|\n",
       "| 1      | 0      | 1      | 0      | 0      | 6      | 0      | 1      | 0.24   | 0.81   | 0.0000 | 16     |\n",
       "| 1      | 0      | 1      | 1      | 0      | 6      | 0      | 1      | 0.22   | 0.80   | 0.0000 | 40     |\n",
       "| 1      | 0      | 1      | 2      | 0      | 6      | 0      | 1      | 0.22   | 0.80   | 0.0000 | 32     |\n",
       "| 1      | 0      | 1      | 3      | 0      | 6      | 0      | 1      | 0.24   | 0.75   | 0.0000 | 13     |\n",
       "| 1      | 0      | 1      | 4      | 0      | 6      | 0      | 1      | 0.24   | 0.75   | 0.0000 |  1     |\n",
       "| 1      | 0      | 1      | 5      | 0      | 6      | 0      | 2      | 0.24   | 0.75   | 0.0896 |  1     |\n",
       "\n"
      ],
      "text/plain": [
       "  season yr mnth hr holiday weekday workingday weathersit temp hum  windspeed\n",
       "1 1      0  1    0  0       6       0          1          0.24 0.81 0.0000   \n",
       "2 1      0  1    1  0       6       0          1          0.22 0.80 0.0000   \n",
       "3 1      0  1    2  0       6       0          1          0.22 0.80 0.0000   \n",
       "4 1      0  1    3  0       6       0          1          0.24 0.75 0.0000   \n",
       "5 1      0  1    4  0       6       0          1          0.24 0.75 0.0000   \n",
       "6 1      0  1    5  0       6       0          2          0.24 0.75 0.0896   \n",
       "  cnt\n",
       "1 16 \n",
       "2 40 \n",
       "3 32 \n",
       "4 13 \n",
       "5  1 \n",
       "6  1 "
      ]
     },
     "metadata": {},
     "output_type": "display_data"
    },
    {
     "data": {
      "text/html": [
       "<table>\n",
       "<thead><tr><th></th><th scope=col>season</th><th scope=col>yr</th><th scope=col>mnth</th><th scope=col>hr</th><th scope=col>holiday</th><th scope=col>weekday</th><th scope=col>workingday</th><th scope=col>weathersit</th><th scope=col>temp</th><th scope=col>hum</th><th scope=col>windspeed</th><th scope=col>cnt</th></tr></thead>\n",
       "<tbody>\n",
       "\t<tr><th scope=row>13905</th><td>3     </td><td>1     </td><td>8     </td><td>13    </td><td>0     </td><td>2     </td><td>1     </td><td>2     </td><td>0.80  </td><td>0.52  </td><td>0.1940</td><td>253   </td></tr>\n",
       "\t<tr><th scope=row>13906</th><td>3     </td><td>1     </td><td>8     </td><td>14    </td><td>0     </td><td>2     </td><td>1     </td><td>2     </td><td>0.82  </td><td>0.46  </td><td>0.0000</td><td>261   </td></tr>\n",
       "\t<tr><th scope=row>13907</th><td>3     </td><td>1     </td><td>8     </td><td>15    </td><td>0     </td><td>2     </td><td>1     </td><td>1     </td><td>0.80  </td><td>0.52  </td><td>0.0000</td><td>306   </td></tr>\n",
       "\t<tr><th scope=row>13908</th><td>3     </td><td>1     </td><td>8     </td><td>16    </td><td>0     </td><td>2     </td><td>1     </td><td>3     </td><td>0.76  </td><td>0.66  </td><td>0.2836</td><td>445   </td></tr>\n",
       "\t<tr><th scope=row>13909</th><td>3     </td><td>1     </td><td>8     </td><td>17    </td><td>0     </td><td>2     </td><td>1     </td><td>2     </td><td>0.78  </td><td>0.62  </td><td>0.1343</td><td>868   </td></tr>\n",
       "\t<tr><th scope=row>13910</th><td>3     </td><td>1     </td><td>8     </td><td>18    </td><td>0     </td><td>2     </td><td>1     </td><td>2     </td><td>0.76  </td><td>0.62  </td><td>0.1642</td><td>814   </td></tr>\n",
       "</tbody>\n",
       "</table>\n"
      ],
      "text/latex": [
       "\\begin{tabular}{r|llllllllllll}\n",
       "  & season & yr & mnth & hr & holiday & weekday & workingday & weathersit & temp & hum & windspeed & cnt\\\\\n",
       "\\hline\n",
       "\t13905 & 3      & 1      & 8      & 13     & 0      & 2      & 1      & 2      & 0.80   & 0.52   & 0.1940 & 253   \\\\\n",
       "\t13906 & 3      & 1      & 8      & 14     & 0      & 2      & 1      & 2      & 0.82   & 0.46   & 0.0000 & 261   \\\\\n",
       "\t13907 & 3      & 1      & 8      & 15     & 0      & 2      & 1      & 1      & 0.80   & 0.52   & 0.0000 & 306   \\\\\n",
       "\t13908 & 3      & 1      & 8      & 16     & 0      & 2      & 1      & 3      & 0.76   & 0.66   & 0.2836 & 445   \\\\\n",
       "\t13909 & 3      & 1      & 8      & 17     & 0      & 2      & 1      & 2      & 0.78   & 0.62   & 0.1343 & 868   \\\\\n",
       "\t13910 & 3      & 1      & 8      & 18     & 0      & 2      & 1      & 2      & 0.76   & 0.62   & 0.1642 & 814   \\\\\n",
       "\\end{tabular}\n"
      ],
      "text/markdown": [
       "\n",
       "| <!--/--> | season | yr | mnth | hr | holiday | weekday | workingday | weathersit | temp | hum | windspeed | cnt |\n",
       "|---|---|---|---|---|---|---|---|---|---|---|---|---|\n",
       "| 13905 | 3      | 1      | 8      | 13     | 0      | 2      | 1      | 2      | 0.80   | 0.52   | 0.1940 | 253    |\n",
       "| 13906 | 3      | 1      | 8      | 14     | 0      | 2      | 1      | 2      | 0.82   | 0.46   | 0.0000 | 261    |\n",
       "| 13907 | 3      | 1      | 8      | 15     | 0      | 2      | 1      | 1      | 0.80   | 0.52   | 0.0000 | 306    |\n",
       "| 13908 | 3      | 1      | 8      | 16     | 0      | 2      | 1      | 3      | 0.76   | 0.66   | 0.2836 | 445    |\n",
       "| 13909 | 3      | 1      | 8      | 17     | 0      | 2      | 1      | 2      | 0.78   | 0.62   | 0.1343 | 868    |\n",
       "| 13910 | 3      | 1      | 8      | 18     | 0      | 2      | 1      | 2      | 0.76   | 0.62   | 0.1642 | 814    |\n",
       "\n"
      ],
      "text/plain": [
       "      season yr mnth hr holiday weekday workingday weathersit temp hum \n",
       "13905 3      1  8    13 0       2       1          2          0.80 0.52\n",
       "13906 3      1  8    14 0       2       1          2          0.82 0.46\n",
       "13907 3      1  8    15 0       2       1          1          0.80 0.52\n",
       "13908 3      1  8    16 0       2       1          3          0.76 0.66\n",
       "13909 3      1  8    17 0       2       1          2          0.78 0.62\n",
       "13910 3      1  8    18 0       2       1          2          0.76 0.62\n",
       "      windspeed cnt\n",
       "13905 0.1940    253\n",
       "13906 0.0000    261\n",
       "13907 0.0000    306\n",
       "13908 0.2836    445\n",
       "13909 0.1343    868\n",
       "13910 0.1642    814"
      ]
     },
     "metadata": {},
     "output_type": "display_data"
    }
   ],
   "source": [
    "head(Train)\n",
    "head(Test)"
   ]
  },
  {
   "cell_type": "markdown",
   "id": "d8e77002",
   "metadata": {},
   "source": [
    "#### Training the model"
   ]
  },
  {
   "cell_type": "code",
   "execution_count": 6,
   "id": "39e38bf2",
   "metadata": {},
   "outputs": [],
   "source": [
    "mse_val <- numeric(49)\n",
    "\n",
    "for( i in 2:50){\n",
    "  KNN_1 <- knnreg(train.X, train.y, k =i )\n",
    "  pred_y <- predict(KNN_1, test.x)\n",
    "  mse_val[i] <- mean((test.y-pred_y)^2)\n",
    "}"
   ]
  },
  {
   "cell_type": "code",
   "execution_count": 11,
   "id": "f522006b",
   "metadata": {},
   "outputs": [
    {
     "data": {
      "text/html": [
       "3"
      ],
      "text/latex": [
       "3"
      ],
      "text/markdown": [
       "3"
      ],
      "text/plain": [
       "[1] 3"
      ]
     },
     "metadata": {},
     "output_type": "display_data"
    }
   ],
   "source": [
    "which.min(mse_val[2:49])"
   ]
  },
  {
   "cell_type": "markdown",
   "id": "3aa29c9b",
   "metadata": {},
   "source": [
    "#### The optimal value of k was found using test MSE. \n",
    "#### The k value corresponding to the minimum value of MSE was chosen for the model. Optimal k is 3."
   ]
  },
  {
   "cell_type": "code",
   "execution_count": 12,
   "id": "26d9735e",
   "metadata": {},
   "outputs": [],
   "source": [
    "KNN_1 <- knnreg(train.X, train.y, k =3 ) "
   ]
  },
  {
   "cell_type": "markdown",
   "id": "7e516b12",
   "metadata": {},
   "source": [
    "### Using the model on the test dataset"
   ]
  },
  {
   "cell_type": "code",
   "execution_count": 13,
   "id": "fb925820",
   "metadata": {},
   "outputs": [],
   "source": [
    "predtst_y <- predict(KNN_1, newdata = test.x)"
   ]
  },
  {
   "cell_type": "code",
   "execution_count": 14,
   "id": "cf8a7a24",
   "metadata": {},
   "outputs": [
    {
     "data": {
      "text/html": [
       "120.784442585721"
      ],
      "text/latex": [
       "120.784442585721"
      ],
      "text/markdown": [
       "120.784442585721"
      ],
      "text/plain": [
       "[1] 120.7844"
      ]
     },
     "metadata": {},
     "output_type": "display_data"
    }
   ],
   "source": [
    "(mean((test.y-predtst_y)^2)^0.5)"
   ]
  },
  {
   "cell_type": "markdown",
   "id": "a2d2662e",
   "metadata": {},
   "source": [
    "#### The test RMSE is ~ 120.78."
   ]
  }
 ],
 "metadata": {
  "kernelspec": {
   "display_name": "R",
   "language": "R",
   "name": "ir"
  },
  "language_info": {
   "codemirror_mode": "r",
   "file_extension": ".r",
   "mimetype": "text/x-r-source",
   "name": "R",
   "pygments_lexer": "r",
   "version": "3.6.1"
  }
 },
 "nbformat": 4,
 "nbformat_minor": 5
}
